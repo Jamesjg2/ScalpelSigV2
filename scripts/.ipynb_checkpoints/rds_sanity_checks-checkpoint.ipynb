{
 "cells": [
  {
   "cell_type": "code",
   "execution_count": 49,
   "id": "1fb4b79b",
   "metadata": {},
   "outputs": [],
   "source": [
    "import rpy2.robjects as robjects\n",
    "import numpy as np"
   ]
  },
  {
   "cell_type": "code",
   "execution_count": 28,
   "id": "91c1451c",
   "metadata": {},
   "outputs": [],
   "source": [
    "data_dir = '../data'"
   ]
  },
  {
   "cell_type": "code",
   "execution_count": 57,
   "id": "e700e977",
   "metadata": {},
   "outputs": [
    {
     "name": "stdout",
     "output_type": "stream",
     "text": [
      "(560, 30977, 96)\n"
     ]
    }
   ],
   "source": [
    "# Load in the combined mutation counts over the whole genome. Each entry represents the counts in a 10 kB window from the genome\n",
    "# Data dimensions should be (Tumor samples x Window x SNV Category) = (560 x 30977 x 96)\n",
    "\n",
    "raw_mutation_counts_10k_winsize = robjects.r['readRDS'](data_dir + '/COMBINED_sbs_array_winsize1e+05.rds')\n",
    "processed_mutation_counts_10k_winsize = np.array(raw_mutation_counts_10k_winsize)\n",
    "\n",
    "print(processed_mutation_counts_10k_winsize.shape)"
   ]
  }
 ],
 "metadata": {
  "kernelspec": {
   "display_name": "Python 3",
   "language": "python",
   "name": "python3"
  },
  "language_info": {
   "codemirror_mode": {
    "name": "ipython",
    "version": 3
   },
   "file_extension": ".py",
   "mimetype": "text/x-python",
   "name": "python",
   "nbconvert_exporter": "python",
   "pygments_lexer": "ipython3",
   "version": "3.8.8"
  }
 },
 "nbformat": 4,
 "nbformat_minor": 5
}
